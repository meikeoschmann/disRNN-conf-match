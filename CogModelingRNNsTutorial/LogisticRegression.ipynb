{
 "cells": [
  {
   "cell_type": "markdown",
   "metadata": {},
   "source": [
    "# Logistic Regression"
   ]
  },
  {
   "cell_type": "code",
   "execution_count": 2,
   "metadata": {},
   "outputs": [],
   "source": [
    "import numpy as np\n",
    "import pandas as pd\n",
    "import matplotlib.pyplot as plt\n",
    "from scipy.io import loadmat\n",
    "from subject_data import SubjectData\n",
    "\n",
    "from sklearn.linear_model import LogisticRegression\n",
    "from sklearn.metrics import log_loss, roc_auc_score, recall_score, precision_score, average_precision_score, f1_score, classification_report, accuracy_score"
   ]
  },
  {
   "cell_type": "markdown",
   "metadata": {},
   "source": [
    "# Load Data"
   ]
  },
  {
   "cell_type": "code",
   "execution_count": 3,
   "metadata": {},
   "outputs": [],
   "source": [
    "data_dir = '..\\data\\data_for_Meike.mat'\n",
    "matDf = loadmat(data_dir)['data']\n",
    "df = pd.DataFrame(np.squeeze(np.array(matDf.tolist())).T, columns=matDf.dtype.names).drop(columns=['label','Spcorrect1', 'Spcorrect2', 'Snoise']).sort_values(by=['subject', 'trial'])\n",
    "\n",
    "# Define target and list of features from previous trial and current trial\n",
    "features_prev = ['type', 'theta', 'Pconfidence', 'Pacc', 'Sacc', 'select', 'Reward', 'Sconfidence']\n",
    "features_curr = ['type', 'theta', 'Sacc']\n",
    "target = ['Sconfidence']\n",
    "\n",
    "data = SubjectData(\n",
    "        df, \n",
    "        features_prev, \n",
    "        features_curr,\n",
    "        target,\n",
    "        categorical_partners=False, \n",
    "        categorical_theta=False)\n",
    "\n",
    "features = data.features_prev + data.features_curr\n",
    "\n",
    "\n",
    "xs = data.get_feature_data()\n",
    "ys = data.get_target_data()\n"
   ]
  },
  {
   "cell_type": "code",
   "execution_count": 14,
   "metadata": {},
   "outputs": [
    {
     "data": {
      "text/plain": [
       "512"
      ]
     },
     "execution_count": 14,
     "metadata": {},
     "output_type": "execute_result"
    }
   ],
   "source": [
    "256 + (64*4)"
   ]
  },
  {
   "cell_type": "code",
   "execution_count": 15,
   "metadata": {},
   "outputs": [],
   "source": [
    "# subject1_xs = xs[0:191]\n",
    "# subject1_ys = ys[0:191]\n",
    "\n",
    "# subject2_xs = xs[192:255]\n",
    "# subject2_ys = ys[192:255]\n",
    "\n",
    "subject1_xs = xs[255:448]\n",
    "subject1_ys = ys[255:448]\n",
    "\n",
    "subject2_xs = xs[449:511]\n",
    "subject2_ys = ys[449:511]"
   ]
  },
  {
   "cell_type": "code",
   "execution_count": 16,
   "metadata": {},
   "outputs": [],
   "source": [
    "clf = LogisticRegression(random_state=0).fit(subject1_xs, subject1_ys)"
   ]
  },
  {
   "cell_type": "code",
   "execution_count": 17,
   "metadata": {},
   "outputs": [
    {
     "name": "stdout",
     "output_type": "stream",
     "text": [
      "Accuracy:  0.5967741935483871\n"
     ]
    }
   ],
   "source": [
    "# Predictions\n",
    "y_pred = clf.predict(subject2_xs)\n",
    "print('Accuracy: ', accuracy_score(subject2_ys, y_pred))"
   ]
  }
 ],
 "metadata": {
  "kernelspec": {
   "display_name": ".venv",
   "language": "python",
   "name": "python3"
  },
  "language_info": {
   "codemirror_mode": {
    "name": "ipython",
    "version": 3
   },
   "file_extension": ".py",
   "mimetype": "text/x-python",
   "name": "python",
   "nbconvert_exporter": "python",
   "pygments_lexer": "ipython3",
   "version": "3.11.3"
  }
 },
 "nbformat": 4,
 "nbformat_minor": 2
}
