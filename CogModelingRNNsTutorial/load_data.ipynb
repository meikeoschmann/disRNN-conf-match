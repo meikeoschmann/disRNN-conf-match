{
 "cells": [
  {
   "cell_type": "code",
   "execution_count": 1,
   "metadata": {},
   "outputs": [],
   "source": [
    "import scipy.io\n",
    "import numpy as np\n",
    "import pandas as pd\n",
    "\n",
    "mat = scipy.io.loadmat('..\\data\\data_for_Meike.mat')\n"
   ]
  },
  {
   "cell_type": "code",
   "execution_count": 2,
   "metadata": {},
   "outputs": [
    {
     "data": {
      "text/plain": [
       "{'__header__': b'MATLAB 5.0 MAT-file, Platform: MACI64, Created on: Wed Aug 14 12:02:52 2019',\n",
       " '__version__': '1.0',\n",
       " '__globals__': [],\n",
       " 'data': array([[(array([[ 1,  1,  1, ..., 30, 30, 30]], dtype=uint8), array([[42, 42, 42, ..., 71, 71, 71]], dtype=uint8), array([[1, 1, 1, ..., 4, 4, 4]], dtype=uint8), array([[  1,   2,   3, ..., 254, 255, 256]], dtype=uint16), array([[ 0.18, -0.11, -0.27, ...,  0.05,  0.05,  0.32]]), array([[2, 2, 1, ..., 2, 2, 1]], dtype=uint8), array([[-1, -1, -1, ..., -1,  1, -1]], dtype=int16), array([[5, 6, 3, ..., 3, 4, 1]], dtype=uint8), array([[0, 1, 1, ..., 0, 1, 0]], dtype=uint8), array([[ 1, -1, -1, ..., -1, -1,  1]], dtype=int16), array([[3, 4, 6, ..., 4, 3, 2]], dtype=uint8), array([[1, 1, 1, ..., 0, 0, 1]], dtype=uint8), array([[0.907, 0.38 , 0.388, ..., 0.308, 1.449, 0.568]]), array([[2576., 1483.,  940., ..., 1790., 1584.,  970.]]), array([[0.85821745, 0.67625963, 0.99      , ..., 0.51      , 0.59369021,\n",
       "                 0.62313369]]), array([[0.95393525, 0.65028894, 0.93116835, ..., 0.52828008, 0.728741  ,\n",
       "                 0.53227832]]), array([[0.233, 0.233, 0.233, ..., 0.269, 0.269, 0.269]]), array([[-1, -1,  1, ...,  1, -1,  1]], dtype=int16))                                                                                                                                                                                                                                                                                                                                                                                                                                                                                                                                                                                                                                                                                            ]],\n",
       "       dtype=[('subject', 'O'), ('label', 'O'), ('block', 'O'), ('trial', 'O'), ('dtheta', 'O'), ('type', 'O'), ('Pchoice', 'O'), ('Preport', 'O'), ('Pacc', 'O'), ('Schoice', 'O'), ('Sreport', 'O'), ('Sacc', 'O'), ('Srt1', 'O'), ('Srt2', 'O'), ('Spcorrect1', 'O'), ('Spcorrect2', 'O'), ('Snoise', 'O'), ('select', 'O')])}"
      ]
     },
     "execution_count": 2,
     "metadata": {},
     "output_type": "execute_result"
    }
   ],
   "source": [
    "mat"
   ]
  },
  {
   "cell_type": "code",
   "execution_count": 3,
   "metadata": {},
   "outputs": [
    {
     "name": "stdout",
     "output_type": "stream",
     "text": [
      "      subject  label  block  trial  dtheta  type  Pchoice  Preport  Pacc  \\\n",
      "0           1     42      1      1    0.18     2       -1        5     0   \n",
      "1           1     42      1      2   -0.11     2       -1        6     1   \n",
      "2           1     42      1      3   -0.27     1       -1        3     1   \n",
      "3           1     42      1      4    0.18     2        1        6     1   \n",
      "4           1     42      1      5    0.05     1       -1        3     0   \n",
      "...       ...    ...    ...    ...     ...   ...      ...      ...   ...   \n",
      "7675       30     71      4    252   -0.13     2        1        3     0   \n",
      "7676       30     71      4    253    0.13     1        1        5     1   \n",
      "7677       30     71      4    254    0.05     2       -1        3     0   \n",
      "7678       30     71      4    255    0.05     2        1        4     1   \n",
      "7679       30     71      4    256    0.32     1       -1        1     0   \n",
      "\n",
      "      Schoice  Sreport  Sacc   Srt1    Srt2  Spcorrect1  Spcorrect2  Snoise  \\\n",
      "0           1        3     1  0.907  2576.0    0.858217    0.953935   0.233   \n",
      "1          -1        4     1  0.380  1483.0    0.676260    0.650289   0.233   \n",
      "2          -1        6     1  0.388   940.0    0.990000    0.931168   0.233   \n",
      "3           1        5     1  0.399  1505.0    0.927602    0.951489   0.233   \n",
      "4           1        1     1  1.234   665.0    0.823862    0.800310   0.233   \n",
      "...       ...      ...   ...    ...     ...         ...         ...     ...   \n",
      "7675       -1        4     1  0.475  1640.0    0.521826    0.688405   0.269   \n",
      "7676       -1        2     0  0.507  1655.0    0.511949    0.515011   0.269   \n",
      "7677       -1        4     0  0.308  1790.0    0.510000    0.528280   0.269   \n",
      "7678       -1        3     0  1.449  1584.0    0.593690    0.728741   0.269   \n",
      "7679        1        2     1  0.568   970.0    0.623134    0.532278   0.269   \n",
      "\n",
      "      select  \n",
      "0         -1  \n",
      "1         -1  \n",
      "2          1  \n",
      "3         -1  \n",
      "4         -1  \n",
      "...      ...  \n",
      "7675       1  \n",
      "7676      -1  \n",
      "7677       1  \n",
      "7678      -1  \n",
      "7679       1  \n",
      "\n",
      "[7680 rows x 18 columns]\n"
     ]
    }
   ],
   "source": [
    "data_arrays = mat['data'][0]\n",
    "\n",
    "# Create a dictionary with keys as column names and values as arrays\n",
    "data_dict = {\n",
    "    'subject': data_arrays['subject'][0][0],\n",
    "    'label': data_arrays['label'][0][0],\n",
    "    'block': data_arrays['block'][0][0],\n",
    "    'trial': data_arrays['trial'][0][0],\n",
    "    'dtheta': data_arrays['dtheta'][0][0],\n",
    "    'type': data_arrays['type'][0][0],\n",
    "    'Pchoice': data_arrays['Pchoice'][0][0],\n",
    "    'Preport': data_arrays['Preport'][0][0],\n",
    "    'Pacc': data_arrays['Pacc'][0][0],\n",
    "    'Schoice': data_arrays['Schoice'][0][0],\n",
    "    'Sreport': data_arrays['Sreport'][0][0],\n",
    "    'Sacc': data_arrays['Sacc'][0][0],\n",
    "    'Srt1': data_arrays['Srt1'][0][0],\n",
    "    'Srt2': data_arrays['Srt2'][0][0],\n",
    "    'Spcorrect1': data_arrays['Spcorrect1'][0][0],\n",
    "    'Spcorrect2': data_arrays['Spcorrect2'][0][0],\n",
    "    'Snoise': data_arrays['Snoise'][0][0],\n",
    "    'select': data_arrays['select'][0][0]\n",
    "}\n",
    "\n",
    "# Create a DataFrame from the dictionary\n",
    "df = pd.DataFrame(data_dict)\n",
    "\n",
    "# Display the DataFrame\n",
    "print(df)"
   ]
  },
  {
   "cell_type": "code",
   "execution_count": 68,
   "metadata": {},
   "outputs": [
    {
     "name": "stdout",
     "output_type": "stream",
     "text": [
      "[[[ 1.     0.18   2.    ...  3.     0.907 -1.   ]\n",
      "  [ 1.    -0.27   2.    ...  5.     0.29   1.   ]\n",
      "  [ 1.     0.18   2.    ...  6.     0.415  1.   ]\n",
      "  [ 1.    -0.18   1.    ...  2.     0.991  1.   ]]\n",
      "\n",
      " [[ 1.    -0.11   2.    ...  4.     0.38  -1.   ]\n",
      "  [ 1.     0.27   1.    ...  4.     0.606 -1.   ]\n",
      "  [ 1.     0.05   2.    ...  5.     0.278  1.   ]\n",
      "  [ 1.     0.18   2.    ...  3.     0.322 -1.   ]]\n",
      "\n",
      " [[ 1.    -0.27   1.    ...  6.     0.388  1.   ]\n",
      "  [ 1.    -0.27   2.    ...  2.     2.3   -1.   ]\n",
      "  [ 1.    -0.11   1.    ...  5.     0.844  1.   ]\n",
      "  [ 1.     0.05   1.    ...  3.     0.315 -1.   ]]\n",
      "\n",
      " ...\n",
      "\n",
      " [[30.     0.05   2.    ...  3.     0.536 -1.   ]\n",
      "  [30.     0.32   1.    ...  3.     0.217 -1.   ]\n",
      "  [30.    -0.13   1.    ...  2.     0.783 -1.   ]\n",
      "  [30.     0.05   2.    ...  4.     0.308  1.   ]]\n",
      "\n",
      " [[30.    -0.13   1.    ...  1.     1.054 -1.   ]\n",
      "  [30.    -0.21   2.    ...  3.     0.292  1.   ]\n",
      "  [30.     0.05   1.    ...  3.     0.228 -1.   ]\n",
      "  [30.     0.05   2.    ...  3.     1.449 -1.   ]]\n",
      "\n",
      " [[30.    -0.32   1.    ...  2.     0.452 -1.   ]\n",
      "  [30.     0.32   2.    ...  2.     0.301 -1.   ]\n",
      "  [30.     0.13   2.    ...  2.     0.751 -1.   ]\n",
      "  [30.     0.32   1.    ...  2.     0.568  1.   ]]]\n"
     ]
    }
   ],
   "source": [
    "# create input array and only keep the relevant columns\n",
    "# (n_trials, n_blocks, #xs)\n",
    "# coherence (dtheta), direction (?), Schoice, Sreport, RT (srt1), ID Partner (type), Pchoice, Preport, select \n",
    "# subject ?\n",
    "\n",
    "# Select the relevant columns\n",
    "selected_columns = ['subject', 'dtheta', 'type', 'Pchoice', 'Preport', 'Schoice', 'Sreport', 'Srt1', 'select']\n",
    "selected_data = df[selected_columns].values\n",
    "\n",
    "# Get the number of unique trials and blocks\n",
    "num_trials = df['trial'].nunique()\n",
    "num_blocks = df['block'].nunique()\n",
    "\n",
    "# Create a dictionary to store data for each block\n",
    "blocks_data = {}\n",
    "\n",
    "# Iterate over each block and store the data\n",
    "for block in range(1, num_blocks + 1):\n",
    "    block_data = selected_data[df['block'] == block]\n",
    "    blocks_data[block] = block_data\n",
    "\n",
    "# Create the final reshaped array\n",
    "reshaped_data = np.array([blocks_data[block] for block in range(1, num_blocks + 1)])\n",
    "\n",
    "# Swap the dimensions to get the correct shape\n",
    "reshaped_data = np.swapaxes(reshaped_data, 0, 1)\n",
    "\n",
    "print(reshaped_data)\n"
   ]
  },
  {
   "cell_type": "code",
   "execution_count": 26,
   "metadata": {},
   "outputs": [
    {
     "name": "stdout",
     "output_type": "stream",
     "text": [
      "(1920, 4, 8)\n"
     ]
    }
   ],
   "source": [
    "# Display the reshaped data shape\n",
    "print(reshaped_data.shape)"
   ]
  },
  {
   "cell_type": "code",
   "execution_count": 32,
   "metadata": {},
   "outputs": [
    {
     "name": "stdout",
     "output_type": "stream",
     "text": [
      "(7680,)\n",
      "(7679,)\n"
     ]
    }
   ],
   "source": [
    "# Create target array ys from Sreport in subsequent trial\n",
    "Sreport = df['Sreport']\n",
    "\n",
    "ys = Sreport[1:]"
   ]
  },
  {
   "cell_type": "code",
   "execution_count": 4,
   "metadata": {},
   "outputs": [],
   "source": [
    "rat = np.load('..\\data\\miller2018_rat16.npy')\n",
    "\n",
    "#rat_df = pd.DataFrame(rat, columns = ['trials','episodes','features'])\n"
   ]
  },
  {
   "cell_type": "code",
   "execution_count": 5,
   "metadata": {},
   "outputs": [
    {
     "data": {
      "text/plain": [
       "(757, 133, 3)"
      ]
     },
     "execution_count": 5,
     "metadata": {},
     "output_type": "execute_result"
    }
   ],
   "source": [
    "rat.shape"
   ]
  },
  {
   "cell_type": "code",
   "execution_count": 8,
   "metadata": {},
   "outputs": [
    {
     "data": {
      "text/plain": [
       "(757, 66, 3)"
      ]
     },
     "execution_count": 8,
     "metadata": {},
     "output_type": "execute_result"
    }
   ],
   "source": [
    " n = int(rat.shape[1] // 2) * 2\n",
    "rat[:,:n:2].shape"
   ]
  },
  {
   "cell_type": "code",
   "execution_count": 15,
   "metadata": {},
   "outputs": [
    {
     "data": {
      "text/plain": [
       "1"
      ]
     },
     "execution_count": 15,
     "metadata": {},
     "output_type": "execute_result"
    }
   ],
   "source": [
    "xs, ys = rat[..., :2], rat[..., 2:]\n",
    "ys.shape[-1]"
   ]
  },
  {
   "cell_type": "code",
   "execution_count": null,
   "metadata": {},
   "outputs": [],
   "source": [
    "def format_into_datasets(xs, ys, dataset_constructor):\n",
    "  \"\"\"Format inputs xs and outputs ys into dataset.\n",
    "\n",
    "  Args:\n",
    "    xs: n_trials x n_sessions x 8 array of features\n",
    "    ys: n_trials x n_sessions x 1 array of confidence in subsequent trial\n",
    "    dataset_constructor: constructor that accepts xs and ys as arguments; probably\n",
    "      use rnn_utils.DatasetRNN\n",
    "\n",
    "  Returns:\n",
    "    dataset_train: a dataset containing even numbered sessions\n",
    "    dataset_train: a dataset containing odd numbered sessions\n",
    "  \"\"\"\n",
    "  n = int(xs.shape[1] // 2) * 2\n",
    "  dataset_train = dataset_constructor(xs[:, :n:2], ys[:, :n:2])\n",
    "  dataset_test = dataset_constructor(xs[:, 1:n:2], ys[:, 1:n:2])\n",
    "  return dataset_train, dataset_test\n"
   ]
  },
  {
   "cell_type": "code",
   "execution_count": null,
   "metadata": {},
   "outputs": [],
   "source": [
    "dataset_train, dataset_test = rat_data.format_into_datasets(\n",
    "      *rat_data.load_data_for_one_rat(FNAME_, '.')[:2], rnn_utils.DatasetRNN)\n",
    "  n_trials_per_session, n_sessions, _ = dataset_train._xs.shape\n",
    "  experiment_list_train = None\n",
    "  experiment_list_test = None\n"
   ]
  }
 ],
 "metadata": {
  "kernelspec": {
   "display_name": "Gym-RL",
   "language": "python",
   "name": "gym-rl"
  },
  "language_info": {
   "codemirror_mode": {
    "name": "ipython",
    "version": 3
   },
   "file_extension": ".py",
   "mimetype": "text/x-python",
   "name": "python",
   "nbconvert_exporter": "python",
   "pygments_lexer": "ipython3",
   "version": "3.9.12"
  }
 },
 "nbformat": 4,
 "nbformat_minor": 2
}
