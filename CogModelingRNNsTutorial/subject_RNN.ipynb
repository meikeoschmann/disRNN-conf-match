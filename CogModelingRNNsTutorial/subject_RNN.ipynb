{
 "cells": [
  {
   "cell_type": "code",
   "execution_count": 39,
   "metadata": {},
   "outputs": [
    {
     "name": "stdout",
     "output_type": "stream",
     "text": [
      "Note: you may need to restart the kernel to use updated packages.\n"
     ]
    },
    {
     "name": "stderr",
     "output_type": "stream",
     "text": [
      "ERROR: Could not open requirements file: [Errno 2] No such file or directory: 'CogModelingRNNsTutorial/requirements.txt'\n"
     ]
    }
   ],
   "source": [
    "pip install -r CogModelingRNNsTutorial/requirements.txt"
   ]
  },
  {
   "cell_type": "code",
   "execution_count": 40,
   "metadata": {},
   "outputs": [
    {
     "name": "stdout",
     "output_type": "stream",
     "text": [
      "The autoreload extension is already loaded. To reload it, use:\n",
      "  %reload_ext autoreload\n"
     ]
    }
   ],
   "source": [
    "# Imports + defaults settings.\n",
    "%load_ext autoreload\n",
    "%autoreload 2\n",
    "\n",
    "import haiku as hk\n",
    "import jax\n",
    "import jax.numpy as jnp\n",
    "import matplotlib as mpl\n",
    "import matplotlib.pyplot as plt\n",
    "import numpy as np\n",
    "import optax\n",
    "import os\n",
    "import warnings\n",
    "import sys\n",
    "import scipy\n",
    "import pandas as pd\n",
    "\n",
    "sys.path.insert(0, '.\\CogModelingRNNsTutorial')\n",
    "\n",
    "warnings.filterwarnings(\"ignore\")\n",
    "\n",
    "try:\n",
    "    from google.colab import files\n",
    "    _ON_COLAB = True\n",
    "except:\n",
    "    _ON_COLAB = False\n",
    "\n",
    "import bandits\n",
    "import disrnn\n",
    "import hybrnn\n",
    "import plotting\n",
    "import subject_data\n",
    "import rnn_utils"
   ]
  },
  {
   "cell_type": "markdown",
   "metadata": {},
   "source": [
    "### Load data"
   ]
  },
  {
   "cell_type": "code",
   "execution_count": 41,
   "metadata": {},
   "outputs": [
    {
     "name": "stdout",
     "output_type": "stream",
     "text": [
      "{'__header__': b'MATLAB 5.0 MAT-file, Platform: MACI64, Created on: Wed Aug 14 12:02:52 2019', '__version__': '1.0', '__globals__': [], 'data': array([[(array([[ 1,  1,  1, ..., 30, 30, 30]], dtype=uint8), array([[42, 42, 42, ..., 71, 71, 71]], dtype=uint8), array([[1, 1, 1, ..., 4, 4, 4]], dtype=uint8), array([[  1,   2,   3, ..., 254, 255, 256]], dtype=uint16), array([[ 0.18, -0.11, -0.27, ...,  0.05,  0.05,  0.32]]), array([[2, 2, 1, ..., 2, 2, 1]], dtype=uint8), array([[-1, -1, -1, ..., -1,  1, -1]], dtype=int16), array([[5, 6, 3, ..., 3, 4, 1]], dtype=uint8), array([[0, 1, 1, ..., 0, 1, 0]], dtype=uint8), array([[ 1, -1, -1, ..., -1, -1,  1]], dtype=int16), array([[3, 4, 6, ..., 4, 3, 2]], dtype=uint8), array([[1, 1, 1, ..., 0, 0, 1]], dtype=uint8), array([[0.907, 0.38 , 0.388, ..., 0.308, 1.449, 0.568]]), array([[2576., 1483.,  940., ..., 1790., 1584.,  970.]]), array([[0.85821745, 0.67625963, 0.99      , ..., 0.51      , 0.59369021,\n",
      "                0.62313369]]), array([[0.95393525, 0.65028894, 0.93116835, ..., 0.52828008, 0.728741  ,\n",
      "                0.53227832]]), array([[0.233, 0.233, 0.233, ..., 0.269, 0.269, 0.269]]), array([[-1, -1,  1, ...,  1, -1,  1]], dtype=int16))                                                                                                                                                                                                                                                                                                                                                                                                                                                                                                                                                                                                                                                                                            ]],\n",
      "      dtype=[('subject', 'O'), ('label', 'O'), ('block', 'O'), ('trial', 'O'), ('dtheta', 'O'), ('type', 'O'), ('Pchoice', 'O'), ('Preport', 'O'), ('Pacc', 'O'), ('Schoice', 'O'), ('Sreport', 'O'), ('Sacc', 'O'), ('Srt1', 'O'), ('Srt2', 'O'), ('Spcorrect1', 'O'), ('Spcorrect2', 'O'), ('Snoise', 'O'), ('select', 'O')])}\n",
      "      subject  label  block  trial  dtheta  type  Pchoice  Preport  Pacc  \\\n",
      "0           1     42      1      1    0.18     2       -1        5     0   \n",
      "1           1     42      1      2   -0.11     2       -1        6     1   \n",
      "2           1     42      1      3   -0.27     1       -1        3     1   \n",
      "3           1     42      1      4    0.18     2        1        6     1   \n",
      "4           1     42      1      5    0.05     1       -1        3     0   \n",
      "...       ...    ...    ...    ...     ...   ...      ...      ...   ...   \n",
      "7675       30     71      4    252   -0.13     2        1        3     0   \n",
      "7676       30     71      4    253    0.13     1        1        5     1   \n",
      "7677       30     71      4    254    0.05     2       -1        3     0   \n",
      "7678       30     71      4    255    0.05     2        1        4     1   \n",
      "7679       30     71      4    256    0.32     1       -1        1     0   \n",
      "\n",
      "      Schoice  Sreport  Sacc   Srt1    Srt2  Spcorrect1  Spcorrect2  Snoise  \\\n",
      "0           1        3     1  0.907  2576.0    0.858217    0.953935   0.233   \n",
      "1          -1        4     1  0.380  1483.0    0.676260    0.650289   0.233   \n",
      "2          -1        6     1  0.388   940.0    0.990000    0.931168   0.233   \n",
      "3           1        5     1  0.399  1505.0    0.927602    0.951489   0.233   \n",
      "4           1        1     1  1.234   665.0    0.823862    0.800310   0.233   \n",
      "...       ...      ...   ...    ...     ...         ...         ...     ...   \n",
      "7675       -1        4     1  0.475  1640.0    0.521826    0.688405   0.269   \n",
      "7676       -1        2     0  0.507  1655.0    0.511949    0.515011   0.269   \n",
      "7677       -1        4     0  0.308  1790.0    0.510000    0.528280   0.269   \n",
      "7678       -1        3     0  1.449  1584.0    0.593690    0.728741   0.269   \n",
      "7679        1        2     1  0.568   970.0    0.623134    0.532278   0.269   \n",
      "\n",
      "      select  \n",
      "0         -1  \n",
      "1         -1  \n",
      "2          1  \n",
      "3         -1  \n",
      "4         -1  \n",
      "...      ...  \n",
      "7675       1  \n",
      "7676      -1  \n",
      "7677       1  \n",
      "7678      -1  \n",
      "7679       1  \n",
      "\n",
      "[7680 rows x 18 columns]\n"
     ]
    }
   ],
   "source": [
    "mat = scipy.io.loadmat('..\\data\\data_for_Meike.mat')\n",
    "print(mat)\n",
    "\n",
    "data_arrays = mat['data'][0]\n",
    "\n",
    "# Create a dictionary with keys as column names and values as arrays\n",
    "data_dict = {\n",
    "    'subject': data_arrays['subject'][0][0],\n",
    "    'label': data_arrays['label'][0][0],\n",
    "    'block': data_arrays['block'][0][0],\n",
    "    'trial': data_arrays['trial'][0][0],\n",
    "    'dtheta': data_arrays['dtheta'][0][0],\n",
    "    'type': data_arrays['type'][0][0],\n",
    "    'Pchoice': data_arrays['Pchoice'][0][0],\n",
    "    'Preport': data_arrays['Preport'][0][0],\n",
    "    'Pacc': data_arrays['Pacc'][0][0],\n",
    "    'Schoice': data_arrays['Schoice'][0][0],\n",
    "    'Sreport': data_arrays['Sreport'][0][0],\n",
    "    'Sacc': data_arrays['Sacc'][0][0],\n",
    "    'Srt1': data_arrays['Srt1'][0][0],\n",
    "    'Srt2': data_arrays['Srt2'][0][0],\n",
    "    'Spcorrect1': data_arrays['Spcorrect1'][0][0],\n",
    "    'Spcorrect2': data_arrays['Spcorrect2'][0][0],\n",
    "    'Snoise': data_arrays['Snoise'][0][0],\n",
    "    'select': data_arrays['select'][0][0]\n",
    "}\n",
    "\n",
    "# Create a DataFrame from the dictionary\n",
    "df = pd.DataFrame(data_dict)\n",
    "\n",
    "# Display the DataFrame\n",
    "print(df)"
   ]
  },
  {
   "cell_type": "markdown",
   "metadata": {},
   "source": [
    "Create input array and only keep the relevant columns"
   ]
  },
  {
   "cell_type": "code",
   "execution_count": 42,
   "metadata": {},
   "outputs": [
    {
     "name": "stdout",
     "output_type": "stream",
     "text": [
      "[[[ 1.     0.18   2.    ...  3.     0.907 -1.   ]\n",
      "  [ 1.    -0.27   2.    ...  5.     0.29   1.   ]\n",
      "  [ 1.     0.18   2.    ...  6.     0.415  1.   ]\n",
      "  [ 1.    -0.18   1.    ...  2.     0.991  1.   ]]\n",
      "\n",
      " [[ 1.    -0.11   2.    ...  4.     0.38  -1.   ]\n",
      "  [ 1.     0.27   1.    ...  4.     0.606 -1.   ]\n",
      "  [ 1.     0.05   2.    ...  5.     0.278  1.   ]\n",
      "  [ 1.     0.18   2.    ...  3.     0.322 -1.   ]]\n",
      "\n",
      " [[ 1.    -0.27   1.    ...  6.     0.388  1.   ]\n",
      "  [ 1.    -0.27   2.    ...  2.     2.3   -1.   ]\n",
      "  [ 1.    -0.11   1.    ...  5.     0.844  1.   ]\n",
      "  [ 1.     0.05   1.    ...  3.     0.315 -1.   ]]\n",
      "\n",
      " ...\n",
      "\n",
      " [[30.     0.05   2.    ...  3.     0.536 -1.   ]\n",
      "  [30.     0.32   1.    ...  3.     0.217 -1.   ]\n",
      "  [30.    -0.13   1.    ...  2.     0.783 -1.   ]\n",
      "  [30.     0.05   2.    ...  4.     0.308  1.   ]]\n",
      "\n",
      " [[30.    -0.13   1.    ...  1.     1.054 -1.   ]\n",
      "  [30.    -0.21   2.    ...  3.     0.292  1.   ]\n",
      "  [30.     0.05   1.    ...  3.     0.228 -1.   ]\n",
      "  [30.     0.05   2.    ...  3.     1.449 -1.   ]]\n",
      "\n",
      " [[30.    -0.32   1.    ...  2.     0.452 -1.   ]\n",
      "  [30.     0.32   2.    ...  2.     0.301 -1.   ]\n",
      "  [30.     0.13   2.    ...  2.     0.751 -1.   ]\n",
      "  [30.     0.32   1.    ...  2.     0.568  1.   ]]]\n"
     ]
    }
   ],
   "source": [
    "# (n_trials, n_blocks, #xs)\n",
    "# coherence (dtheta), direction (?), Schoice, Sreport, RT (srt1), ID Partner (type), Pchoice, Preport, select \n",
    "\n",
    "# Select the relevant columns\n",
    "selected_columns = ['subject', 'dtheta', 'type', 'Pchoice', 'Preport', 'Schoice', 'Sreport', 'Srt1', 'select']\n",
    "selected_data = df[selected_columns].values\n",
    "\n",
    "# Get the number of unique trials and blocks\n",
    "num_trials = df['trial'].nunique()\n",
    "num_blocks = df['block'].nunique()\n",
    "\n",
    "# Create a dictionary to store data for each block\n",
    "blocks_data = {}\n",
    "\n",
    "# Iterate over each block and store the data\n",
    "for block in range(1, num_blocks + 1):\n",
    "    block_data = selected_data[df['block'] == block]\n",
    "    blocks_data[block] = block_data\n",
    "\n",
    "# Create the final reshaped array\n",
    "xs = np.array([blocks_data[block] for block in range(1, num_blocks + 1)])\n",
    "\n",
    "# Swap the dimensions to get the correct shape\n",
    "xs = np.swapaxes(xs, 0, 1)\n",
    "\n",
    "print(xs)"
   ]
  },
  {
   "cell_type": "code",
   "execution_count": 43,
   "metadata": {},
   "outputs": [
    {
     "data": {
      "text/plain": [
       "0      -1\n",
       "1      -1\n",
       "2       1\n",
       "3      -1\n",
       "4      -1\n",
       "       ..\n",
       "7675    1\n",
       "7676   -1\n",
       "7677    1\n",
       "7678   -1\n",
       "7679    1\n",
       "Name: select, Length: 7680, dtype: int16"
      ]
     },
     "execution_count": 43,
     "metadata": {},
     "output_type": "execute_result"
    }
   ],
   "source": [
    "df['select'] # -1: partner\n",
    "# TO DO: for creating a reward column:\n",
    "# if select == 1: then reward = Sacc, if select == -1: reward = Pacc"
   ]
  },
  {
   "cell_type": "code",
   "execution_count": 44,
   "metadata": {},
   "outputs": [
    {
     "name": "stdout",
     "output_type": "stream",
     "text": [
      "(1920, 4, 9)\n"
     ]
    }
   ],
   "source": [
    "# Display the reshaped data shape\n",
    "print(xs.shape)"
   ]
  },
  {
   "cell_type": "markdown",
   "metadata": {},
   "source": [
    "Create input and target"
   ]
  },
  {
   "cell_type": "code",
   "execution_count": 45,
   "metadata": {},
   "outputs": [
    {
     "name": "stdout",
     "output_type": "stream",
     "text": [
      "(64, 4, 8)\n",
      "(64, 4)\n"
     ]
    }
   ],
   "source": [
    "# subject 1\n",
    "xs_s1, ys_s1 = subject_data.load_data_for_one_subject(xs, 1)\n",
    "\n",
    "print(xs_s1.shape)\n",
    "print(ys_s1.shape)"
   ]
  },
  {
   "cell_type": "markdown",
   "metadata": {},
   "source": [
    "Create training and test set"
   ]
  },
  {
   "cell_type": "code",
   "execution_count": 46,
   "metadata": {},
   "outputs": [
    {
     "name": "stdout",
     "output_type": "stream",
     "text": [
      "[[[ 0.     0.     0.    ...  0.     0.     0.   ]\n",
      "  [ 0.     0.     0.    ...  0.     0.     0.   ]]\n",
      "\n",
      " [[ 0.18   2.    -1.    ...  3.     0.907 -1.   ]\n",
      "  [ 0.18   2.    -1.    ...  6.     0.415  1.   ]]\n",
      "\n",
      " [[-0.11   2.    -1.    ...  4.     0.38  -1.   ]\n",
      "  [ 0.05   2.    -1.    ...  5.     0.278  1.   ]]\n",
      "\n",
      " ...\n",
      "\n",
      " [[ 0.05   2.     1.    ...  2.     0.62  -1.   ]\n",
      "  [-0.11   1.     1.    ...  4.     0.71   1.   ]]\n",
      "\n",
      " [[ 0.18   1.     1.    ...  4.     0.581  1.   ]\n",
      "  [-0.11   2.    -1.    ...  3.     0.525 -1.   ]]\n",
      "\n",
      " [[-0.11   2.    -1.    ...  1.     0.815 -1.   ]\n",
      "  [-0.05   1.     1.    ...  2.     0.463 -1.   ]]]\n",
      "[[ 3.  6.]\n",
      " [ 4.  5.]\n",
      " [ 6.  5.]\n",
      " [ 5.  4.]\n",
      " [ 1.  6.]\n",
      " [ 4.  2.]\n",
      " [ 2.  1.]\n",
      " [ 4.  2.]\n",
      " [ 1.  6.]\n",
      " [ 6.  6.]\n",
      " [ 2.  6.]\n",
      " [ 6.  3.]\n",
      " [ 1.  4.]\n",
      " [ 1.  6.]\n",
      " [ 1.  5.]\n",
      " [ 4.  3.]\n",
      " [ 4.  5.]\n",
      " [ 1.  5.]\n",
      " [ 2.  1.]\n",
      " [ 2.  1.]\n",
      " [ 3.  4.]\n",
      " [ 1.  1.]\n",
      " [ 2.  6.]\n",
      " [ 3.  6.]\n",
      " [ 6.  4.]\n",
      " [ 5.  5.]\n",
      " [ 3.  4.]\n",
      " [ 1.  6.]\n",
      " [ 4.  6.]\n",
      " [ 6.  5.]\n",
      " [ 5.  5.]\n",
      " [ 3.  5.]\n",
      " [ 6.  1.]\n",
      " [ 4.  3.]\n",
      " [ 5.  5.]\n",
      " [ 6.  4.]\n",
      " [ 1.  3.]\n",
      " [ 2.  4.]\n",
      " [ 3.  5.]\n",
      " [ 2.  5.]\n",
      " [ 1.  5.]\n",
      " [ 3.  5.]\n",
      " [ 2.  2.]\n",
      " [ 5.  4.]\n",
      " [ 1.  5.]\n",
      " [ 6.  6.]\n",
      " [ 5.  5.]\n",
      " [ 2.  6.]\n",
      " [ 1.  6.]\n",
      " [ 3.  6.]\n",
      " [ 3.  4.]\n",
      " [ 3.  1.]\n",
      " [ 6.  2.]\n",
      " [ 6.  1.]\n",
      " [ 6.  2.]\n",
      " [ 6.  5.]\n",
      " [ 5.  3.]\n",
      " [ 1.  3.]\n",
      " [ 6.  4.]\n",
      " [ 1.  3.]\n",
      " [ 4.  5.]\n",
      " [ 2.  4.]\n",
      " [ 4.  3.]\n",
      " [ 1.  2.]\n",
      " [-1. -1.]]\n",
      "[[[ 0.     0.     0.    ...  0.     0.     0.   ]\n",
      "  [ 0.     0.     0.    ...  0.     0.     0.   ]]\n",
      "\n",
      " [[-0.27   2.    -1.    ...  5.     0.29   1.   ]\n",
      "  [-0.18   1.    -1.    ...  2.     0.991  1.   ]]\n",
      "\n",
      " [[ 0.27   1.     1.    ...  4.     0.606 -1.   ]\n",
      "  [ 0.18   2.     1.    ...  3.     0.322 -1.   ]]\n",
      "\n",
      " ...\n",
      "\n",
      " [[ 0.11   1.    -1.    ...  4.     0.324  1.   ]\n",
      "  [ 0.27   1.     1.    ...  5.     0.241 -1.   ]]\n",
      "\n",
      " [[-0.05   1.     1.    ...  1.     0.254  1.   ]\n",
      "  [-0.27   1.    -1.    ...  1.     0.868 -1.   ]]\n",
      "\n",
      " [[-0.27   2.    -1.    ...  6.     0.093  1.   ]\n",
      "  [ 0.11   2.    -1.    ...  4.     0.247  1.   ]]]\n",
      "[[ 5.  2.]\n",
      " [ 4.  3.]\n",
      " [ 2.  3.]\n",
      " [ 3.  1.]\n",
      " [ 2.  2.]\n",
      " [ 1.  6.]\n",
      " [ 4.  4.]\n",
      " [ 2.  6.]\n",
      " [ 5.  2.]\n",
      " [ 6.  6.]\n",
      " [ 4.  3.]\n",
      " [ 6.  6.]\n",
      " [ 1.  6.]\n",
      " [ 4.  5.]\n",
      " [ 5.  5.]\n",
      " [ 1.  5.]\n",
      " [ 3.  3.]\n",
      " [ 5.  4.]\n",
      " [ 6.  1.]\n",
      " [ 2.  4.]\n",
      " [ 1.  5.]\n",
      " [ 5.  6.]\n",
      " [ 5.  3.]\n",
      " [ 4.  4.]\n",
      " [ 2.  6.]\n",
      " [ 5.  4.]\n",
      " [ 4.  2.]\n",
      " [ 2.  6.]\n",
      " [ 5.  6.]\n",
      " [ 1.  5.]\n",
      " [ 6.  5.]\n",
      " [ 5.  5.]\n",
      " [ 6.  1.]\n",
      " [ 3.  2.]\n",
      " [ 2.  3.]\n",
      " [ 4.  6.]\n",
      " [ 2.  6.]\n",
      " [ 1.  1.]\n",
      " [ 1.  1.]\n",
      " [ 6.  3.]\n",
      " [ 6.  4.]\n",
      " [ 4.  4.]\n",
      " [ 4.  1.]\n",
      " [ 4.  2.]\n",
      " [ 3.  5.]\n",
      " [ 3.  4.]\n",
      " [ 1.  5.]\n",
      " [ 2.  4.]\n",
      " [ 4.  4.]\n",
      " [ 6.  4.]\n",
      " [ 3.  6.]\n",
      " [ 6.  4.]\n",
      " [ 4.  6.]\n",
      " [ 5.  3.]\n",
      " [ 2.  4.]\n",
      " [ 6.  5.]\n",
      " [ 5.  5.]\n",
      " [ 3.  3.]\n",
      " [ 1.  6.]\n",
      " [ 5.  4.]\n",
      " [ 3.  4.]\n",
      " [ 4.  5.]\n",
      " [ 1.  1.]\n",
      " [ 6.  4.]\n",
      " [-1. -1.]]\n"
     ]
    }
   ],
   "source": [
    "train_s1, test_s1 = subject_data.format_into_datasets(xs_s1, ys_s1, rnn_utils.DatasetRNN)\n",
    "\n",
    "# print(train_s1._xs.shape)\n",
    "# print(train_s1._ys.shape)\n",
    "# print(test_s1._xs.shape)\n",
    "# print(test_s1._ys.shape)\n",
    "\n",
    "print(train_s1._xs)\n",
    "print(train_s1._ys)\n",
    "print(test_s1._xs)\n",
    "print(test_s1._ys)"
   ]
  },
  {
   "cell_type": "markdown",
   "metadata": {},
   "source": [
    "## Set up the Disentangled RNN"
   ]
  },
  {
   "cell_type": "code",
   "execution_count": 37,
   "metadata": {},
   "outputs": [],
   "source": [
    "# Number of latent units in the model.\n",
    "latent_size = 5  #@param\n",
    "\n",
    "# Number of hidden units in each of the two layers of the update MLP.\n",
    "update_mlp_shape = (3,3,)  #@param\n",
    "\n",
    "# Number of hidden units in each of the two layers of the choice MLP.\n",
    "choice_mlp_shape = (2,)\n",
    "\n",
    "def make_disrnn():\n",
    "  model = disrnn.HkDisRNN(latent_size = latent_size,\n",
    "                          update_mlp_shape = update_mlp_shape,\n",
    "                          choice_mlp_shape = choice_mlp_shape,\n",
    "                          target_size=2)\n",
    "  return model\n",
    "\n",
    "def make_disrnn_eval():\n",
    "  model = disrnn.HkDisRNN(latent_size = latent_size,\n",
    "                          update_mlp_shape = update_mlp_shape,\n",
    "                          choice_mlp_shape = choice_mlp_shape,\n",
    "                          target_size=2,\n",
    "                          eval_mode=True)\n",
    "  return model\n",
    "\n",
    "\n",
    "optimizer = optax.adam(learning_rate=1e-2)"
   ]
  },
  {
   "cell_type": "markdown",
   "metadata": {},
   "source": [
    "Fit disRNN with no penalty at first, to get good quality-of-fit"
   ]
  },
  {
   "cell_type": "code",
   "execution_count": 53,
   "metadata": {},
   "outputs": [
    {
     "name": "stdout",
     "output_type": "stream",
     "text": [
      "Warning: this step can be rather time consuming without GPU access. If you are not running on a GPU\n",
      ", you may want to set n_steps to a very low value and return to the exercise when you \n",
      "have access to hardware acceleration.\n"
     ]
    },
    {
     "ename": "ValueError",
     "evalue": "Incompatible shapes for broadcasting: shapes=[(2, 13, 1), (7, 5)]",
     "output_type": "error",
     "traceback": [
      "\u001b[1;31m---------------------------------------------------------------------------\u001b[0m",
      "\u001b[1;31mValueError\u001b[0m                                Traceback (most recent call last)",
      "    \u001b[1;31m[... skipping hidden 1 frame]\u001b[0m\n",
      "File \u001b[1;32mc:\\Users\\WKL-Oschmann\\Documents\\Studium\\Master\\5. Semester\\Laborpraktikum\\CogModelingRNNsTutorial-main\\.venv\\Lib\\site-packages\\jax\\_src\\util.py:284\u001b[0m, in \u001b[0;36mcache.<locals>.wrap.<locals>.wrapper\u001b[1;34m(*args, **kwargs)\u001b[0m\n\u001b[0;32m    283\u001b[0m \u001b[39melse\u001b[39;00m:\n\u001b[1;32m--> 284\u001b[0m   \u001b[39mreturn\u001b[39;00m cached(config\u001b[39m.\u001b[39;49mconfig\u001b[39m.\u001b[39;49m_trace_context(), \u001b[39m*\u001b[39;49margs, \u001b[39m*\u001b[39;49m\u001b[39m*\u001b[39;49mkwargs)\n",
      "File \u001b[1;32mc:\\Users\\WKL-Oschmann\\Documents\\Studium\\Master\\5. Semester\\Laborpraktikum\\CogModelingRNNsTutorial-main\\.venv\\Lib\\site-packages\\jax\\_src\\util.py:277\u001b[0m, in \u001b[0;36mcache.<locals>.wrap.<locals>.cached\u001b[1;34m(_, *args, **kwargs)\u001b[0m\n\u001b[0;32m    275\u001b[0m \u001b[39m@functools\u001b[39m\u001b[39m.\u001b[39mlru_cache(max_size)\n\u001b[0;32m    276\u001b[0m \u001b[39mdef\u001b[39;00m \u001b[39mcached\u001b[39m(_, \u001b[39m*\u001b[39margs, \u001b[39m*\u001b[39m\u001b[39m*\u001b[39mkwargs):\n\u001b[1;32m--> 277\u001b[0m   \u001b[39mreturn\u001b[39;00m f(\u001b[39m*\u001b[39;49margs, \u001b[39m*\u001b[39;49m\u001b[39m*\u001b[39;49mkwargs)\n",
      "File \u001b[1;32mc:\\Users\\WKL-Oschmann\\Documents\\Studium\\Master\\5. Semester\\Laborpraktikum\\CogModelingRNNsTutorial-main\\.venv\\Lib\\site-packages\\jax\\_src\\lax\\lax.py:152\u001b[0m, in \u001b[0;36m_broadcast_shapes_cached\u001b[1;34m(*shapes)\u001b[0m\n\u001b[0;32m    150\u001b[0m \u001b[39m@cache\u001b[39m()\n\u001b[0;32m    151\u001b[0m \u001b[39mdef\u001b[39;00m \u001b[39m_broadcast_shapes_cached\u001b[39m(\u001b[39m*\u001b[39mshapes: \u001b[39mtuple\u001b[39m[\u001b[39mint\u001b[39m, \u001b[39m.\u001b[39m\u001b[39m.\u001b[39m\u001b[39m.\u001b[39m]) \u001b[39m-\u001b[39m\u001b[39m>\u001b[39m \u001b[39mtuple\u001b[39m[\u001b[39mint\u001b[39m, \u001b[39m.\u001b[39m\u001b[39m.\u001b[39m\u001b[39m.\u001b[39m]:\n\u001b[1;32m--> 152\u001b[0m   \u001b[39mreturn\u001b[39;00m _broadcast_shapes_uncached(\u001b[39m*\u001b[39;49mshapes)\n",
      "File \u001b[1;32mc:\\Users\\WKL-Oschmann\\Documents\\Studium\\Master\\5. Semester\\Laborpraktikum\\CogModelingRNNsTutorial-main\\.venv\\Lib\\site-packages\\jax\\_src\\lax\\lax.py:168\u001b[0m, in \u001b[0;36m_broadcast_shapes_uncached\u001b[1;34m(*shapes)\u001b[0m\n\u001b[0;32m    167\u001b[0m \u001b[39mif\u001b[39;00m result_shape \u001b[39mis\u001b[39;00m \u001b[39mNone\u001b[39;00m:\n\u001b[1;32m--> 168\u001b[0m   \u001b[39mraise\u001b[39;00m \u001b[39mValueError\u001b[39;00m(\u001b[39mf\u001b[39m\u001b[39m\"\u001b[39m\u001b[39mIncompatible shapes for broadcasting: shapes=\u001b[39m\u001b[39m{\u001b[39;00m\u001b[39mlist\u001b[39m(shapes)\u001b[39m}\u001b[39;00m\u001b[39m\"\u001b[39m)\n\u001b[0;32m    169\u001b[0m \u001b[39mreturn\u001b[39;00m result_shape\n",
      "\u001b[1;31mValueError\u001b[0m: Incompatible shapes for broadcasting: shapes=[(2, 13, 1), (7, 5)]",
      "\nDuring handling of the above exception, another exception occurred:\n",
      "\u001b[1;31mValueError\u001b[0m                                Traceback (most recent call last)",
      "\u001b[1;32mc:\\Users\\WKL-Oschmann\\Documents\\Studium\\Master\\5. Semester\\Laborpraktikum\\CogModelingRNNsTutorial-main\\CogModelingRNNsTutorial\\subject_RNN.ipynb Cell 16\u001b[0m line \u001b[0;36m8\n\u001b[0;32m      <a href='vscode-notebook-cell:/c%3A/Users/WKL-Oschmann/Documents/Studium/Master/5.%20Semester/Laborpraktikum/CogModelingRNNsTutorial-main/CogModelingRNNsTutorial/subject_RNN.ipynb#X44sZmlsZQ%3D%3D?line=4'>5</a>\u001b[0m n_steps \u001b[39m=\u001b[39m \u001b[39m1000\u001b[39m \u001b[39m#@param\u001b[39;00m\n\u001b[0;32m      <a href='vscode-notebook-cell:/c%3A/Users/WKL-Oschmann/Documents/Studium/Master/5.%20Semester/Laborpraktikum/CogModelingRNNsTutorial-main/CogModelingRNNsTutorial/subject_RNN.ipynb#X44sZmlsZQ%3D%3D?line=5'>6</a>\u001b[0m information_penalty \u001b[39m=\u001b[39m \u001b[39m0\u001b[39m\n\u001b[1;32m----> <a href='vscode-notebook-cell:/c%3A/Users/WKL-Oschmann/Documents/Studium/Master/5.%20Semester/Laborpraktikum/CogModelingRNNsTutorial-main/CogModelingRNNsTutorial/subject_RNN.ipynb#X44sZmlsZQ%3D%3D?line=7'>8</a>\u001b[0m disrnn_params, opt_state, losses \u001b[39m=\u001b[39m rnn_utils\u001b[39m.\u001b[39;49mtrain_model(\n\u001b[0;32m      <a href='vscode-notebook-cell:/c%3A/Users/WKL-Oschmann/Documents/Studium/Master/5.%20Semester/Laborpraktikum/CogModelingRNNsTutorial-main/CogModelingRNNsTutorial/subject_RNN.ipynb#X44sZmlsZQ%3D%3D?line=8'>9</a>\u001b[0m     model_fun \u001b[39m=\u001b[39;49m make_disrnn,\n\u001b[0;32m     <a href='vscode-notebook-cell:/c%3A/Users/WKL-Oschmann/Documents/Studium/Master/5.%20Semester/Laborpraktikum/CogModelingRNNsTutorial-main/CogModelingRNNsTutorial/subject_RNN.ipynb#X44sZmlsZQ%3D%3D?line=9'>10</a>\u001b[0m     dataset \u001b[39m=\u001b[39;49m train_s1, \n\u001b[0;32m     <a href='vscode-notebook-cell:/c%3A/Users/WKL-Oschmann/Documents/Studium/Master/5.%20Semester/Laborpraktikum/CogModelingRNNsTutorial-main/CogModelingRNNsTutorial/subject_RNN.ipynb#X44sZmlsZQ%3D%3D?line=10'>11</a>\u001b[0m     optimizer \u001b[39m=\u001b[39;49m optimizer,\n\u001b[0;32m     <a href='vscode-notebook-cell:/c%3A/Users/WKL-Oschmann/Documents/Studium/Master/5.%20Semester/Laborpraktikum/CogModelingRNNsTutorial-main/CogModelingRNNsTutorial/subject_RNN.ipynb#X44sZmlsZQ%3D%3D?line=11'>12</a>\u001b[0m     loss_fun \u001b[39m=\u001b[39;49m \u001b[39m'\u001b[39;49m\u001b[39mpenalized_categorical\u001b[39;49m\u001b[39m'\u001b[39;49m,\n\u001b[0;32m     <a href='vscode-notebook-cell:/c%3A/Users/WKL-Oschmann/Documents/Studium/Master/5.%20Semester/Laborpraktikum/CogModelingRNNsTutorial-main/CogModelingRNNsTutorial/subject_RNN.ipynb#X44sZmlsZQ%3D%3D?line=12'>13</a>\u001b[0m     penalty_scale\u001b[39m=\u001b[39;49minformation_penalty,\n\u001b[0;32m     <a href='vscode-notebook-cell:/c%3A/Users/WKL-Oschmann/Documents/Studium/Master/5.%20Semester/Laborpraktikum/CogModelingRNNsTutorial-main/CogModelingRNNsTutorial/subject_RNN.ipynb#X44sZmlsZQ%3D%3D?line=13'>14</a>\u001b[0m     n_steps\u001b[39m=\u001b[39;49mn_steps,\n\u001b[0;32m     <a href='vscode-notebook-cell:/c%3A/Users/WKL-Oschmann/Documents/Studium/Master/5.%20Semester/Laborpraktikum/CogModelingRNNsTutorial-main/CogModelingRNNsTutorial/subject_RNN.ipynb#X44sZmlsZQ%3D%3D?line=14'>15</a>\u001b[0m     do_plot\u001b[39m=\u001b[39;49m\u001b[39mFalse\u001b[39;49;00m,\n\u001b[0;32m     <a href='vscode-notebook-cell:/c%3A/Users/WKL-Oschmann/Documents/Studium/Master/5.%20Semester/Laborpraktikum/CogModelingRNNsTutorial-main/CogModelingRNNsTutorial/subject_RNN.ipynb#X44sZmlsZQ%3D%3D?line=15'>16</a>\u001b[0m     truncate_seq_length\u001b[39m=\u001b[39;49m\u001b[39m200\u001b[39;49m,\n\u001b[0;32m     <a href='vscode-notebook-cell:/c%3A/Users/WKL-Oschmann/Documents/Studium/Master/5.%20Semester/Laborpraktikum/CogModelingRNNsTutorial-main/CogModelingRNNsTutorial/subject_RNN.ipynb#X44sZmlsZQ%3D%3D?line=16'>17</a>\u001b[0m )\n",
      "File \u001b[1;32mc:\\Users\\WKL-Oschmann\\Documents\\Studium\\Master\\5. Semester\\Laborpraktikum\\CogModelingRNNsTutorial-main\\CogModelingRNNsTutorial\\rnn_utils.py:179\u001b[0m, in \u001b[0;36mtrain_model\u001b[1;34m(model_fun, dataset, optimizer, random_key, opt_state, params, n_steps, penalty_scale, loss_fun, do_plot, truncate_seq_length)\u001b[0m\n\u001b[0;32m    177\u001b[0m \u001b[39mif\u001b[39;00m params \u001b[39mis\u001b[39;00m \u001b[39mNone\u001b[39;00m:\n\u001b[0;32m    178\u001b[0m   random_key, key1 \u001b[39m=\u001b[39m jax\u001b[39m.\u001b[39mrandom\u001b[39m.\u001b[39msplit(random_key)\n\u001b[1;32m--> 179\u001b[0m   params \u001b[39m=\u001b[39m model\u001b[39m.\u001b[39;49minit(key1, sample_xs)\n\u001b[0;32m    180\u001b[0m \u001b[39m# It an optimizer state has not been supplied, start optimizer from scratch\u001b[39;00m\n\u001b[0;32m    181\u001b[0m \u001b[39mif\u001b[39;00m opt_state \u001b[39mis\u001b[39;00m \u001b[39mNone\u001b[39;00m:\n",
      "File \u001b[1;32mc:\\Users\\WKL-Oschmann\\Documents\\Studium\\Master\\5. Semester\\Laborpraktikum\\CogModelingRNNsTutorial-main\\.venv\\Lib\\site-packages\\haiku\\_src\\transform.py:166\u001b[0m, in \u001b[0;36mwithout_state.<locals>.init_fn\u001b[1;34m(*args, **kwargs)\u001b[0m\n\u001b[0;32m    165\u001b[0m \u001b[39mdef\u001b[39;00m \u001b[39minit_fn\u001b[39m(\u001b[39m*\u001b[39margs, \u001b[39m*\u001b[39m\u001b[39m*\u001b[39mkwargs) \u001b[39m-\u001b[39m\u001b[39m>\u001b[39m hk\u001b[39m.\u001b[39mMutableParams:\n\u001b[1;32m--> 166\u001b[0m   params, state \u001b[39m=\u001b[39m f\u001b[39m.\u001b[39;49minit(\u001b[39m*\u001b[39;49margs, \u001b[39m*\u001b[39;49m\u001b[39m*\u001b[39;49mkwargs)\n\u001b[0;32m    167\u001b[0m   \u001b[39mif\u001b[39;00m state:\n\u001b[0;32m    168\u001b[0m     \u001b[39mraise\u001b[39;00m base\u001b[39m.\u001b[39mNonEmptyStateError(\n\u001b[0;32m    169\u001b[0m         \u001b[39m\"\u001b[39m\u001b[39mIf your transformed function uses `hk.\u001b[39m\u001b[39m{\u001b[39m\u001b[39mget,set}_state` then use \u001b[39m\u001b[39m\"\u001b[39m\n\u001b[0;32m    170\u001b[0m         \u001b[39m\"\u001b[39m\u001b[39m`hk.transform_with_state`.\u001b[39m\u001b[39m\"\u001b[39m)\n",
      "File \u001b[1;32mc:\\Users\\WKL-Oschmann\\Documents\\Studium\\Master\\5. Semester\\Laborpraktikum\\CogModelingRNNsTutorial-main\\.venv\\Lib\\site-packages\\haiku\\_src\\transform.py:422\u001b[0m, in \u001b[0;36mtransform_with_state.<locals>.init_fn\u001b[1;34m(rng, *args, **kwargs)\u001b[0m\n\u001b[0;32m    420\u001b[0m \u001b[39mwith\u001b[39;00m base\u001b[39m.\u001b[39mnew_context(rng\u001b[39m=\u001b[39mrng) \u001b[39mas\u001b[39;00m ctx:\n\u001b[0;32m    421\u001b[0m   \u001b[39mtry\u001b[39;00m:\n\u001b[1;32m--> 422\u001b[0m     f(\u001b[39m*\u001b[39;49margs, \u001b[39m*\u001b[39;49m\u001b[39m*\u001b[39;49mkwargs)\n\u001b[0;32m    423\u001b[0m   \u001b[39mexcept\u001b[39;00m jax\u001b[39m.\u001b[39merrors\u001b[39m.\u001b[39mUnexpectedTracerError \u001b[39mas\u001b[39;00m e:\n\u001b[0;32m    424\u001b[0m     \u001b[39mraise\u001b[39;00m jax\u001b[39m.\u001b[39merrors\u001b[39m.\u001b[39mUnexpectedTracerError(unexpected_tracer_hint) \u001b[39mfrom\u001b[39;00m \u001b[39me\u001b[39;00m\n",
      "File \u001b[1;32mc:\\Users\\WKL-Oschmann\\Documents\\Studium\\Master\\5. Semester\\Laborpraktikum\\CogModelingRNNsTutorial-main\\CogModelingRNNsTutorial\\rnn_utils.py:166\u001b[0m, in \u001b[0;36mtrain_model.<locals>.unroll_network\u001b[1;34m(xs)\u001b[0m\n\u001b[0;32m    162\u001b[0m state \u001b[39m=\u001b[39m core\u001b[39m.\u001b[39minitial_state(batch_size)\n\u001b[0;32m    163\u001b[0m \u001b[39m# unrolls the LSTM over the input sequence, generating predictions \u001b[39;00m\n\u001b[0;32m    164\u001b[0m \u001b[39m# for all output values. The LSTM always starts with its initial \u001b[39;00m\n\u001b[0;32m    165\u001b[0m \u001b[39m# state at the start of the sequence.\u001b[39;00m\n\u001b[1;32m--> 166\u001b[0m ys, _ \u001b[39m=\u001b[39m hk\u001b[39m.\u001b[39;49mdynamic_unroll(core, xs, state)\n\u001b[0;32m    167\u001b[0m \u001b[39mreturn\u001b[39;00m ys\n",
      "File \u001b[1;32mc:\\Users\\WKL-Oschmann\\Documents\\Studium\\Master\\5. Semester\\Laborpraktikum\\CogModelingRNNsTutorial-main\\.venv\\Lib\\site-packages\\haiku\\_src\\recurrent.py:203\u001b[0m, in \u001b[0;36mdynamic_unroll\u001b[1;34m(core, input_sequence, initial_state, time_major, reverse, return_all_states, unroll)\u001b[0m\n\u001b[0;32m    200\u001b[0m \u001b[39mif\u001b[39;00m \u001b[39mnot\u001b[39;00m time_major:\n\u001b[0;32m    201\u001b[0m   input_sequence \u001b[39m=\u001b[39m _swap_batch_time(input_sequence)\n\u001b[1;32m--> 203\u001b[0m scan_result \u001b[39m=\u001b[39m scan(\n\u001b[0;32m    204\u001b[0m     scan_f, initial_state, input_sequence, reverse\u001b[39m=\u001b[39;49mreverse, unroll\u001b[39m=\u001b[39;49munroll)\n\u001b[0;32m    205\u001b[0m \u001b[39mif\u001b[39;00m return_all_states:\n\u001b[0;32m    206\u001b[0m   _, (output_sequence, state_sequence) \u001b[39m=\u001b[39m scan_result\n",
      "File \u001b[1;32mc:\\Users\\WKL-Oschmann\\Documents\\Studium\\Master\\5. Semester\\Laborpraktikum\\CogModelingRNNsTutorial-main\\.venv\\Lib\\site-packages\\haiku\\_src\\stateful.py:614\u001b[0m, in \u001b[0;36mscan\u001b[1;34m(f, init, xs, length, reverse, unroll)\u001b[0m\n\u001b[0;32m    612\u001b[0m   x0 \u001b[39m=\u001b[39m jax\u001b[39m.\u001b[39mtree_util\u001b[39m.\u001b[39mtree_map(\u001b[39mlambda\u001b[39;00m x: x[\u001b[39m0\u001b[39m], xs)\n\u001b[0;32m    613\u001b[0m   xs \u001b[39m=\u001b[39m jax\u001b[39m.\u001b[39mtree_util\u001b[39m.\u001b[39mtree_map(\u001b[39mlambda\u001b[39;00m x: x[\u001b[39m1\u001b[39m:], xs)\n\u001b[1;32m--> 614\u001b[0m init, y0 \u001b[39m=\u001b[39m f(init, x0)\n\u001b[0;32m    615\u001b[0m y0 \u001b[39m=\u001b[39m jax\u001b[39m.\u001b[39mtree_util\u001b[39m.\u001b[39mtree_map(\u001b[39mlambda\u001b[39;00m y: jnp\u001b[39m.\u001b[39mexpand_dims(y, \u001b[39m0\u001b[39m), y0)\n\u001b[0;32m    616\u001b[0m length \u001b[39m-\u001b[39m\u001b[39m=\u001b[39m \u001b[39m1\u001b[39m\n",
      "File \u001b[1;32mc:\\Users\\WKL-Oschmann\\Documents\\Studium\\Master\\5. Semester\\Laborpraktikum\\CogModelingRNNsTutorial-main\\.venv\\Lib\\site-packages\\haiku\\_src\\recurrent.py:194\u001b[0m, in \u001b[0;36mdynamic_unroll.<locals>.scan_f\u001b[1;34m(prev_state, inputs)\u001b[0m\n\u001b[0;32m    193\u001b[0m \u001b[39mdef\u001b[39;00m \u001b[39mscan_f\u001b[39m(prev_state, inputs):\n\u001b[1;32m--> 194\u001b[0m   outputs, next_state \u001b[39m=\u001b[39m core(inputs, prev_state)\n\u001b[0;32m    195\u001b[0m   \u001b[39mif\u001b[39;00m return_all_states:\n\u001b[0;32m    196\u001b[0m     \u001b[39mreturn\u001b[39;00m next_state, (outputs, next_state)\n",
      "File \u001b[1;32mc:\\Users\\WKL-Oschmann\\Documents\\Studium\\Master\\5. Semester\\Laborpraktikum\\CogModelingRNNsTutorial-main\\.venv\\Lib\\site-packages\\haiku\\_src\\module.py:458\u001b[0m, in \u001b[0;36mwrap_method.<locals>.wrapped\u001b[1;34m(self, *args, **kwargs)\u001b[0m\n\u001b[0;32m    455\u001b[0m   \u001b[39mif\u001b[39;00m method_name \u001b[39m!=\u001b[39m \u001b[39m\"\u001b[39m\u001b[39m__call__\u001b[39m\u001b[39m\"\u001b[39m:\n\u001b[0;32m    456\u001b[0m     f \u001b[39m=\u001b[39m jax\u001b[39m.\u001b[39mnamed_call(f, name\u001b[39m=\u001b[39mmethod_name)\n\u001b[1;32m--> 458\u001b[0m out \u001b[39m=\u001b[39m f(\u001b[39m*\u001b[39;49margs, \u001b[39m*\u001b[39;49m\u001b[39m*\u001b[39;49mkwargs)\n\u001b[0;32m    460\u001b[0m \u001b[39m# Module names are set in the constructor. If `f` is the constructor then\u001b[39;00m\n\u001b[0;32m    461\u001b[0m \u001b[39m# its name will only be set **after** `f` has run. For methods other\u001b[39;00m\n\u001b[0;32m    462\u001b[0m \u001b[39m# than `__init__` we need the name before running in order to wrap their\u001b[39;00m\n\u001b[0;32m    463\u001b[0m \u001b[39m# execution with `named_call`.\u001b[39;00m\n\u001b[0;32m    464\u001b[0m \u001b[39mif\u001b[39;00m module_name \u001b[39mis\u001b[39;00m \u001b[39mNone\u001b[39;00m:\n",
      "File \u001b[1;32m~\\AppData\\Local\\Programs\\Python\\Python311\\Lib\\contextlib.py:81\u001b[0m, in \u001b[0;36mContextDecorator.__call__.<locals>.inner\u001b[1;34m(*args, **kwds)\u001b[0m\n\u001b[0;32m     78\u001b[0m \u001b[39m@wraps\u001b[39m(func)\n\u001b[0;32m     79\u001b[0m \u001b[39mdef\u001b[39;00m \u001b[39minner\u001b[39m(\u001b[39m*\u001b[39margs, \u001b[39m*\u001b[39m\u001b[39m*\u001b[39mkwds):\n\u001b[0;32m     80\u001b[0m     \u001b[39mwith\u001b[39;00m \u001b[39mself\u001b[39m\u001b[39m.\u001b[39m_recreate_cm():\n\u001b[1;32m---> 81\u001b[0m         \u001b[39mreturn\u001b[39;00m func(\u001b[39m*\u001b[39;49margs, \u001b[39m*\u001b[39;49m\u001b[39m*\u001b[39;49mkwds)\n",
      "File \u001b[1;32mc:\\Users\\WKL-Oschmann\\Documents\\Studium\\Master\\5. Semester\\Laborpraktikum\\CogModelingRNNsTutorial-main\\.venv\\Lib\\site-packages\\haiku\\_src\\module.py:299\u001b[0m, in \u001b[0;36mrun_interceptors\u001b[1;34m(bound_method, method_name, self, orig_class, *args, **kwargs)\u001b[0m\n\u001b[0;32m    297\u001b[0m \u001b[39m\u001b[39m\u001b[39m\"\"\"Runs any method interceptors or the original method.\"\"\"\u001b[39;00m\n\u001b[0;32m    298\u001b[0m \u001b[39mif\u001b[39;00m \u001b[39mnot\u001b[39;00m interceptor_stack:\n\u001b[1;32m--> 299\u001b[0m   \u001b[39mreturn\u001b[39;00m bound_method(\u001b[39m*\u001b[39;49margs, \u001b[39m*\u001b[39;49m\u001b[39m*\u001b[39;49mkwargs)\n\u001b[0;32m    301\u001b[0m ctx \u001b[39m=\u001b[39m MethodContext(module\u001b[39m=\u001b[39m\u001b[39mself\u001b[39m,\n\u001b[0;32m    302\u001b[0m                     method_name\u001b[39m=\u001b[39mmethod_name,\n\u001b[0;32m    303\u001b[0m                     orig_method\u001b[39m=\u001b[39mbound_method,\n\u001b[0;32m    304\u001b[0m                     orig_class\u001b[39m=\u001b[39morig_class)\n\u001b[0;32m    305\u001b[0m interceptor_stack_copy \u001b[39m=\u001b[39m interceptor_stack\u001b[39m.\u001b[39mclone()\n",
      "File \u001b[1;32mc:\\Users\\WKL-Oschmann\\Documents\\Studium\\Master\\5. Semester\\Laborpraktikum\\CogModelingRNNsTutorial-main\\CogModelingRNNsTutorial\\disrnn.py:116\u001b[0m, in \u001b[0;36mHkDisRNN.__call__\u001b[1;34m(self, observations, prev_latents)\u001b[0m\n\u001b[0;32m    111\u001b[0m update_mlp_mus_unscaled \u001b[39m=\u001b[39m jnp\u001b[39m.\u001b[39mconcatenate(\n\u001b[0;32m    112\u001b[0m     (observations, prev_latents), axis\u001b[39m=\u001b[39m\u001b[39m1\u001b[39m\n\u001b[0;32m    113\u001b[0m )\n\u001b[0;32m    114\u001b[0m \u001b[39m# update_mlp_mus: (batch_size, obs_size + latent_size, latent_size)\u001b[39;00m\n\u001b[0;32m    115\u001b[0m update_mlp_mus \u001b[39m=\u001b[39m (\n\u001b[1;32m--> 116\u001b[0m     jnp\u001b[39m.\u001b[39;49mexpand_dims(update_mlp_mus_unscaled, \u001b[39m2\u001b[39;49m)\n\u001b[0;32m    117\u001b[0m     \u001b[39m*\u001b[39;49m \u001b[39mself\u001b[39;49m\u001b[39m.\u001b[39;49m_update_mlp_multipliers\n\u001b[0;32m    118\u001b[0m )\n\u001b[0;32m    119\u001b[0m \u001b[39m# update_mlp_sigmas: (obs_size + latent_size, latent_size)\u001b[39;00m\n\u001b[0;32m    120\u001b[0m update_mlp_sigmas \u001b[39m=\u001b[39m \u001b[39mself\u001b[39m\u001b[39m.\u001b[39m_update_mlp_sigmas \u001b[39m*\u001b[39m (\u001b[39m1\u001b[39m \u001b[39m-\u001b[39m \u001b[39mself\u001b[39m\u001b[39m.\u001b[39m_eval_mode)\n",
      "File \u001b[1;32mc:\\Users\\WKL-Oschmann\\Documents\\Studium\\Master\\5. Semester\\Laborpraktikum\\CogModelingRNNsTutorial-main\\.venv\\Lib\\site-packages\\jax\\_src\\numpy\\array_methods.py:256\u001b[0m, in \u001b[0;36m_defer_to_unrecognized_arg.<locals>.deferring_binary_op\u001b[1;34m(self, other)\u001b[0m\n\u001b[0;32m    254\u001b[0m args \u001b[39m=\u001b[39m (other, \u001b[39mself\u001b[39m) \u001b[39mif\u001b[39;00m swap \u001b[39melse\u001b[39;00m (\u001b[39mself\u001b[39m, other)\n\u001b[0;32m    255\u001b[0m \u001b[39mif\u001b[39;00m \u001b[39misinstance\u001b[39m(other, _accepted_binop_types):\n\u001b[1;32m--> 256\u001b[0m   \u001b[39mreturn\u001b[39;00m binary_op(\u001b[39m*\u001b[39;49margs)\n\u001b[0;32m    257\u001b[0m \u001b[39m# Note: don't use isinstance here, because we don't want to raise for\u001b[39;00m\n\u001b[0;32m    258\u001b[0m \u001b[39m# subclasses, e.g. NamedTuple objects that may override operators.\u001b[39;00m\n\u001b[0;32m    259\u001b[0m \u001b[39mif\u001b[39;00m \u001b[39mtype\u001b[39m(other) \u001b[39min\u001b[39;00m _rejected_binop_types:\n",
      "    \u001b[1;31m[... skipping hidden 12 frame]\u001b[0m\n",
      "File \u001b[1;32mc:\\Users\\WKL-Oschmann\\Documents\\Studium\\Master\\5. Semester\\Laborpraktikum\\CogModelingRNNsTutorial-main\\.venv\\Lib\\site-packages\\jax\\_src\\numpy\\ufuncs.py:96\u001b[0m, in \u001b[0;36m_maybe_bool_binop.<locals>.fn\u001b[1;34m(x1, x2)\u001b[0m\n\u001b[0;32m     95\u001b[0m \u001b[39mdef\u001b[39;00m \u001b[39mfn\u001b[39m(x1, x2, \u001b[39m/\u001b[39m):\n\u001b[1;32m---> 96\u001b[0m   x1, x2 \u001b[39m=\u001b[39m promote_args(numpy_fn\u001b[39m.\u001b[39;49m\u001b[39m__name__\u001b[39;49m, x1, x2)\n\u001b[0;32m     97\u001b[0m   \u001b[39mreturn\u001b[39;00m lax_fn(x1, x2) \u001b[39mif\u001b[39;00m x1\u001b[39m.\u001b[39mdtype \u001b[39m!=\u001b[39m np\u001b[39m.\u001b[39mbool_ \u001b[39melse\u001b[39;00m bool_lax_fn(x1, x2)\n",
      "File \u001b[1;32mc:\\Users\\WKL-Oschmann\\Documents\\Studium\\Master\\5. Semester\\Laborpraktikum\\CogModelingRNNsTutorial-main\\.venv\\Lib\\site-packages\\jax\\_src\\numpy\\util.py:363\u001b[0m, in \u001b[0;36mpromote_args\u001b[1;34m(fun_name, *args)\u001b[0m\n\u001b[0;32m    361\u001b[0m check_arraylike(fun_name, \u001b[39m*\u001b[39margs)\n\u001b[0;32m    362\u001b[0m _check_no_float0s(fun_name, \u001b[39m*\u001b[39margs)\n\u001b[1;32m--> 363\u001b[0m \u001b[39mreturn\u001b[39;00m promote_shapes(fun_name, \u001b[39m*\u001b[39;49mpromote_dtypes(\u001b[39m*\u001b[39;49margs))\n",
      "File \u001b[1;32mc:\\Users\\WKL-Oschmann\\Documents\\Studium\\Master\\5. Semester\\Laborpraktikum\\CogModelingRNNsTutorial-main\\.venv\\Lib\\site-packages\\jax\\_src\\numpy\\util.py:248\u001b[0m, in \u001b[0;36mpromote_shapes\u001b[1;34m(fun_name, *args)\u001b[0m\n\u001b[0;32m    246\u001b[0m \u001b[39mif\u001b[39;00m config\u001b[39m.\u001b[39mnumpy_rank_promotion\u001b[39m.\u001b[39mvalue \u001b[39m!=\u001b[39m \u001b[39m\"\u001b[39m\u001b[39mallow\u001b[39m\u001b[39m\"\u001b[39m:\n\u001b[0;32m    247\u001b[0m   _rank_promotion_warning_or_error(fun_name, shapes)\n\u001b[1;32m--> 248\u001b[0m result_rank \u001b[39m=\u001b[39m \u001b[39mlen\u001b[39m(lax\u001b[39m.\u001b[39;49mbroadcast_shapes(\u001b[39m*\u001b[39;49mshapes))\n\u001b[0;32m    249\u001b[0m \u001b[39mreturn\u001b[39;00m [_broadcast_to(arg, (\u001b[39m1\u001b[39m,) \u001b[39m*\u001b[39m (result_rank \u001b[39m-\u001b[39m \u001b[39mlen\u001b[39m(shp)) \u001b[39m+\u001b[39m shp)\n\u001b[0;32m    250\u001b[0m         \u001b[39mfor\u001b[39;00m arg, shp \u001b[39min\u001b[39;00m \u001b[39mzip\u001b[39m(args, shapes)]\n",
      "    \u001b[1;31m[... skipping hidden 1 frame]\u001b[0m\n",
      "File \u001b[1;32mc:\\Users\\WKL-Oschmann\\Documents\\Studium\\Master\\5. Semester\\Laborpraktikum\\CogModelingRNNsTutorial-main\\.venv\\Lib\\site-packages\\jax\\_src\\lax\\lax.py:168\u001b[0m, in \u001b[0;36m_broadcast_shapes_uncached\u001b[1;34m(*shapes)\u001b[0m\n\u001b[0;32m    166\u001b[0m result_shape \u001b[39m=\u001b[39m _try_broadcast_shapes(shape_list)\n\u001b[0;32m    167\u001b[0m \u001b[39mif\u001b[39;00m result_shape \u001b[39mis\u001b[39;00m \u001b[39mNone\u001b[39;00m:\n\u001b[1;32m--> 168\u001b[0m   \u001b[39mraise\u001b[39;00m \u001b[39mValueError\u001b[39;00m(\u001b[39mf\u001b[39m\u001b[39m\"\u001b[39m\u001b[39mIncompatible shapes for broadcasting: shapes=\u001b[39m\u001b[39m{\u001b[39;00m\u001b[39mlist\u001b[39m(shapes)\u001b[39m}\u001b[39;00m\u001b[39m\"\u001b[39m)\n\u001b[0;32m    169\u001b[0m \u001b[39mreturn\u001b[39;00m result_shape\n",
      "\u001b[1;31mValueError\u001b[0m: Incompatible shapes for broadcasting: shapes=[(2, 13, 1), (7, 5)]"
     ]
    }
   ],
   "source": [
    "# You can experiment with different values, but colab has been tested with 1000.\n",
    "print(('Warning: this step can be rather time consuming without GPU access. If you are not running on a GPU\\n, '\n",
    "       'you may want to set n_steps to a very low value and return to the exercise when you \\n'\n",
    "       'have access to hardware acceleration.'))\n",
    "n_steps = 1000 #@param\n",
    "information_penalty = 0\n",
    "\n",
    "disrnn_params, opt_state, losses = rnn_utils.train_model(\n",
    "    model_fun = make_disrnn,\n",
    "    dataset = train_s1, \n",
    "    optimizer = optimizer,\n",
    "    loss_fun = 'penalized_categorical',\n",
    "    penalty_scale=information_penalty,\n",
    "    n_steps=n_steps,\n",
    "    do_plot=False,\n",
    "    truncate_seq_length=200,\n",
    ")"
   ]
  },
  {
   "cell_type": "markdown",
   "metadata": {},
   "source": []
  },
  {
   "cell_type": "markdown",
   "metadata": {},
   "source": [
    "Now fit more steps with a penalty, to encourage it to find a simple solution"
   ]
  },
  {
   "cell_type": "code",
   "execution_count": null,
   "metadata": {},
   "outputs": [],
   "source": [
    "# You can experiment with different values, but colab has been tested with 3000.\n",
    "n_steps = 3000  #@param\n",
    "information_penalty = 1e-3  #@param\n",
    "\n",
    "disrnn_params, opt_state, losses = rnn_utils.train_model(\n",
    "    model_fun = make_disrnn,\n",
    "    dataset = dataset_train, # TO DO\n",
    "    optimizer = optimizer,\n",
    "    loss_fun = 'penalized_categorical',\n",
    "    params=disrnn_params,\n",
    "    opt_state=opt_state,\n",
    "    penalty_scale=information_penalty,\n",
    "    n_steps=n_steps,\n",
    "    truncate_seq_length=200,\n",
    ")"
   ]
  },
  {
   "cell_type": "markdown",
   "metadata": {},
   "source": [
    "Visualize model latents\n",
    "Visualize bottleneck latents + learned update."
   ]
  },
  {
   "cell_type": "code",
   "execution_count": null,
   "metadata": {},
   "outputs": [],
   "source": [
    "disrnn.plot_bottlenecks(disrnn_params)\n",
    "disrnn.plot_update_rules(disrnn_params, make_disrnn_eval)"
   ]
  }
 ],
 "metadata": {
  "kernelspec": {
   "display_name": ".RNN",
   "language": "python",
   "name": "python3"
  },
  "language_info": {
   "codemirror_mode": {
    "name": "ipython",
    "version": 3
   },
   "file_extension": ".py",
   "mimetype": "text/x-python",
   "name": "python",
   "nbconvert_exporter": "python",
   "pygments_lexer": "ipython3",
   "version": "3.11.3"
  }
 },
 "nbformat": 4,
 "nbformat_minor": 2
}
